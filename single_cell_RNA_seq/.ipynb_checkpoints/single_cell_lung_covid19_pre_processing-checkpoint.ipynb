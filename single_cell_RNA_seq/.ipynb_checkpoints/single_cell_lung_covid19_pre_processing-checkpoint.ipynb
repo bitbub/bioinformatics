{
 "cells": [
  {
   "cell_type": "markdown",
   "metadata": {},
   "source": [
    "## A molecular single-cell lung atlas of lethal COVID-19\n",
    "##### referene: https://www.nature.com/articles/s41586-021-03569-1\n",
    "##### platform: Illumina NovaSeq 6000 and snRNA-seq using a droplet-based platform (10x Genomics)\n",
    "##### overall design: Single-nuclei RNA sequencing of 116,314 cells from 20 frozen lungs obtained from 19 COVID-19 decedents and seven control patients.\n",
    "##### control: 7 patients vs disease: 19 covid-19 patients"
   ]
  },
  {
   "cell_type": "code",
   "execution_count": 2,
   "metadata": {},
   "outputs": [
    {
     "name": "stderr",
     "output_type": "stream",
     "text": [
      "/home/bonny/miniconda3/envs/singlecell/lib/python3.10/site-packages/scvi/_settings.py:63: UserWarning: Since v1.0.0, scvi-tools no longer uses a random seed by default. Run `scvi.settings.seed = 0` to reproduce results from previous versions.\n",
      "  self.seed = seed\n",
      "/home/bonny/miniconda3/envs/singlecell/lib/python3.10/site-packages/scvi/_settings.py:70: UserWarning: Setting `dl_pin_memory_gpu_training` is deprecated in v1.0 and will be removed in v1.1. Please pass in `pin_memory` to the data loaders instead.\n",
      "  self.dl_pin_memory_gpu_training = (\n",
      "/home/bonny/miniconda3/envs/singlecell/lib/python3.10/site-packages/tqdm/auto.py:21: TqdmWarning: IProgress not found. Please update jupyter and ipywidgets. See https://ipywidgets.readthedocs.io/en/stable/user_install.html\n",
      "  from .autonotebook import tqdm as notebook_tqdm\n",
      "/home/bonny/miniconda3/envs/singlecell/lib/python3.10/site-packages/flax/struct.py:132: FutureWarning: jax.tree_util.register_keypaths is deprecated, and will be removed in a future release. Please use `register_pytree_with_keys()` instead.\n",
      "  jax.tree_util.register_keypaths(data_clz, keypaths)\n",
      "/home/bonny/miniconda3/envs/singlecell/lib/python3.10/site-packages/flax/struct.py:132: FutureWarning: jax.tree_util.register_keypaths is deprecated, and will be removed in a future release. Please use `register_pytree_with_keys()` instead.\n",
      "  jax.tree_util.register_keypaths(data_clz, keypaths)\n",
      "Global seed set to 0\n"
     ]
    }
   ],
   "source": [
    "import scanpy as sc\n",
    "import scvi\n",
    "\n",
    "import os\n",
    "import pandas as pd\n",
    "import numpy as np\n",
    "from scipy.sparse import csr_matrix\n",
    "\n",
    "import seaborn as sns\n",
    "\n",
    "\n",
    "scvi.settings.seed = 0"
   ]
  },
  {
   "cell_type": "markdown",
   "metadata": {},
   "source": [
    "# Pre-process all the samples"
   ]
  },
  {
   "cell_type": "code",
   "execution_count": 3,
   "metadata": {},
   "outputs": [],
   "source": [
    "data_dir = '/home/bonny/Documents/bioinformatics_workspace/datasets/single_cell_pipline/covid-19/'"
   ]
  },
  {
   "cell_type": "markdown",
   "metadata": {},
   "source": [
    "#### Function to pre-process all the samples"
   ]
  },
  {
   "cell_type": "code",
   "execution_count": 4,
   "metadata": {},
   "outputs": [],
   "source": [
    "## Function to pre-process all the samples\n",
    "\n",
    "def sample_preprocessing(input_csv: str, sample: str):\n",
    "\n",
    "    ## 1) find doubets \n",
    "\n",
    "    ## load .csv file\n",
    "    adata = sc.read_csv(input_csv).T\n",
    "\n",
    "    ## filter genes : at least in 10 cells\n",
    "    sc.pp.filter_genes(adata, min_cells=10)\n",
    "\n",
    "    ## get highly variable 2000 genes \n",
    "    sc.pp.highly_variable_genes(adata, n_top_genes=2000, subset=True, flavor='seurat_v3')\n",
    "\n",
    "    ## load and train SCVI model to identify 'doublets'\n",
    "    scvi.model.SCVI.setup_anndata(adata)\n",
    "    vae = scvi.model.SCVI(adata)\n",
    "    vae.train()\n",
    "\n",
    "    ## Train solo model to predict \"doublets\". It needs train scvi model to be passed.\n",
    "\n",
    "    solo = scvi.external.SOLO.from_scvi_model(vae)\n",
    "    solo.train()\n",
    "\n",
    "    df = solo.predict()\n",
    "    df['prediction'] = solo.predict(soft=False)\n",
    "    df['diff'] = df.doublet - df.singlet\n",
    "    doublets = df[(df['prediction']=='doublet') & (df['diff']>1 )]\n",
    "\n",
    "\n",
    "    ## 2) pre-processing\n",
    "\n",
    "    ## assign samples\n",
    "    adata = sc.read_csv(input_csv).T\n",
    "    adata.obs['sample'] = sample\n",
    "\n",
    "    ## assign doublets\n",
    "    adata.obs['doublet'] = adata.obs.index.isin( doublets.index )\n",
    "    adata = adata[~ adata.obs.doublet]\n",
    "\n",
    "    ## label 'mitochondrial' and 'ribosomal' genes\n",
    "    sc.pp.filter_cells(adata, min_genes=200) ## filter cells with fewer than 200 genes\n",
    "    adata.var['mt'] = adata.var_names.str.startswith( 'MT-' ) ## label mitochondrial genes\n",
    "    adata.var['ribosomal'] = adata.var_names.str.startswith((\"RPS\", \"RPL\")) ## label ribosomal genes\n",
    "    # adata.var['ribosomal'] = adata.var_names.isin( ribosomal_genes[0].values ) ## label ribosomal genes\n",
    "\n",
    "    sc.pp.calculate_qc_metrics(adata, qc_vars=['mt', 'ribosomal'], percent_top=None, log1p=False, inplace=True)\n",
    "    upper_limit = np.quantile(adata.obs.n_genes_by_counts.values, 0.98)\n",
    "    adata = adata[adata.obs.n_genes_by_counts < upper_limit]\n",
    "    adata = adata[adata.obs.pct_counts_mt < 20]\n",
    "    adata = adata[adata.obs.pct_counts_ribosomal < 2]\n",
    "\n",
    "    return adata\n",
    "\n"
   ]
  },
  {
   "cell_type": "code",
   "execution_count": 5,
   "metadata": {},
   "outputs": [],
   "source": [
    "## create sample_name : sample_path dictionary\n",
    "sample_dict = dict()\n",
    "for fi in sorted( os.listdir(data_dir) ):\n",
    "    file_extension = os.path.splitext(fi)[-1]\n",
    "    if file_extension == '.gz':\n",
    "        file_path = data_dir + fi\n",
    "        sample = fi.split('_')[1]\n",
    "        sample_dict[sample] = file_path"
   ]
  },
  {
   "cell_type": "code",
   "execution_count": 6,
   "metadata": {},
   "outputs": [
    {
     "data": {
      "text/plain": [
       "{'C51ctr': '/home/bonny/Documents/bioinformatics_workspace/datasets/single_cell_pipline/covid-19/GSM5226574_C51ctr_raw_counts.csv.gz',\n",
       " 'C52ctr': '/home/bonny/Documents/bioinformatics_workspace/datasets/single_cell_pipline/covid-19/GSM5226575_C52ctr_raw_counts.csv.gz',\n",
       " 'C53ctr': '/home/bonny/Documents/bioinformatics_workspace/datasets/single_cell_pipline/covid-19/GSM5226576_C53ctr_raw_counts.csv.gz',\n",
       " 'C54ctr': '/home/bonny/Documents/bioinformatics_workspace/datasets/single_cell_pipline/covid-19/GSM5226577_C54ctr_raw_counts.csv.gz',\n",
       " 'C55ctr': '/home/bonny/Documents/bioinformatics_workspace/datasets/single_cell_pipline/covid-19/GSM5226578_C55ctr_raw_counts.csv.gz',\n",
       " 'C56ctr': '/home/bonny/Documents/bioinformatics_workspace/datasets/single_cell_pipline/covid-19/GSM5226579_C56ctr_raw_counts.csv.gz',\n",
       " 'C57ctr': '/home/bonny/Documents/bioinformatics_workspace/datasets/single_cell_pipline/covid-19/GSM5226580_C57ctr_raw_counts.csv.gz',\n",
       " 'L01cov': '/home/bonny/Documents/bioinformatics_workspace/datasets/single_cell_pipline/covid-19/GSM5226581_L01cov_raw_counts.csv.gz',\n",
       " 'L03cov': '/home/bonny/Documents/bioinformatics_workspace/datasets/single_cell_pipline/covid-19/GSM5226582_L03cov_raw_counts.csv.gz',\n",
       " 'L04cov': '/home/bonny/Documents/bioinformatics_workspace/datasets/single_cell_pipline/covid-19/GSM5226583_L04cov_raw_counts.csv.gz',\n",
       " 'L04covaddon': '/home/bonny/Documents/bioinformatics_workspace/datasets/single_cell_pipline/covid-19/GSM5226584_L04covaddon_raw_counts.csv.gz',\n",
       " 'L05cov': '/home/bonny/Documents/bioinformatics_workspace/datasets/single_cell_pipline/covid-19/GSM5226585_L05cov_raw_counts.csv.gz',\n",
       " 'L06cov': '/home/bonny/Documents/bioinformatics_workspace/datasets/single_cell_pipline/covid-19/GSM5226586_L06cov_raw_counts.csv.gz',\n",
       " 'L07cov': '/home/bonny/Documents/bioinformatics_workspace/datasets/single_cell_pipline/covid-19/GSM5226587_L07cov_raw_counts.csv.gz',\n",
       " 'L08cov': '/home/bonny/Documents/bioinformatics_workspace/datasets/single_cell_pipline/covid-19/GSM5226588_L08cov_raw_counts.csv.gz',\n",
       " 'L09cov': '/home/bonny/Documents/bioinformatics_workspace/datasets/single_cell_pipline/covid-19/GSM5226589_L09cov_raw_counts.csv.gz',\n",
       " 'L10cov': '/home/bonny/Documents/bioinformatics_workspace/datasets/single_cell_pipline/covid-19/GSM5226590_L10cov_raw_counts.csv.gz',\n",
       " 'L11cov': '/home/bonny/Documents/bioinformatics_workspace/datasets/single_cell_pipline/covid-19/GSM5226591_L11cov_raw_counts.csv.gz',\n",
       " 'L12cov': '/home/bonny/Documents/bioinformatics_workspace/datasets/single_cell_pipline/covid-19/GSM5226592_L12cov_raw_counts.csv.gz',\n",
       " 'L13cov': '/home/bonny/Documents/bioinformatics_workspace/datasets/single_cell_pipline/covid-19/GSM5226593_L13cov_raw_counts.csv.gz',\n",
       " 'L15cov': '/home/bonny/Documents/bioinformatics_workspace/datasets/single_cell_pipline/covid-19/GSM5226594_L15cov_raw_counts.csv.gz',\n",
       " 'L16cov': '/home/bonny/Documents/bioinformatics_workspace/datasets/single_cell_pipline/covid-19/GSM5226595_L16cov_raw_counts.csv.gz',\n",
       " 'L17cov': '/home/bonny/Documents/bioinformatics_workspace/datasets/single_cell_pipline/covid-19/GSM5226596_L17cov_raw_counts.csv.gz',\n",
       " 'L18cov': '/home/bonny/Documents/bioinformatics_workspace/datasets/single_cell_pipline/covid-19/GSM5226597_L18cov_raw_counts.csv.gz',\n",
       " 'L19cov': '/home/bonny/Documents/bioinformatics_workspace/datasets/single_cell_pipline/covid-19/GSM5226598_L19cov_raw_counts.csv.gz',\n",
       " 'L21cov': '/home/bonny/Documents/bioinformatics_workspace/datasets/single_cell_pipline/covid-19/GSM5226599_L21cov_raw_counts.csv.gz',\n",
       " 'L22cov': '/home/bonny/Documents/bioinformatics_workspace/datasets/single_cell_pipline/covid-19/GSM5226600_L22cov_raw_counts.csv.gz'}"
      ]
     },
     "execution_count": 6,
     "metadata": {},
     "output_type": "execute_result"
    }
   ],
   "source": [
    "sample_dict"
   ]
  },
  {
   "cell_type": "code",
   "execution_count": 7,
   "metadata": {},
   "outputs": [
    {
     "data": {
      "text/plain": [
       "['C51ctr',\n",
       " 'C52ctr',\n",
       " 'C53ctr',\n",
       " 'C54ctr',\n",
       " 'C55ctr',\n",
       " 'C56ctr',\n",
       " 'C57ctr',\n",
       " 'L01cov',\n",
       " 'L03cov',\n",
       " 'L04cov',\n",
       " 'L04covaddon',\n",
       " 'L05cov',\n",
       " 'L06cov',\n",
       " 'L07cov',\n",
       " 'L08cov',\n",
       " 'L09cov',\n",
       " 'L10cov',\n",
       " 'L11cov',\n",
       " 'L12cov',\n",
       " 'L13cov',\n",
       " 'L15cov',\n",
       " 'L16cov',\n",
       " 'L17cov',\n",
       " 'L18cov',\n",
       " 'L19cov',\n",
       " 'L21cov',\n",
       " 'L22cov']"
      ]
     },
     "execution_count": 7,
     "metadata": {},
     "output_type": "execute_result"
    }
   ],
   "source": [
    "sorted( sample_dict.keys() )"
   ]
  },
  {
   "cell_type": "code",
   "execution_count": 9,
   "metadata": {},
   "outputs": [],
   "source": [
    "s = ['L22cov']"
   ]
  },
  {
   "cell_type": "code",
   "execution_count": 10,
   "metadata": {},
   "outputs": [
    {
     "name": "stdout",
     "output_type": "stream",
     "text": [
      "L22cov /home/bonny/Documents/bioinformatics_workspace/datasets/single_cell_pipline/covid-19/GSM5226600_L22cov_raw_counts.csv.gz\n",
      "\n"
     ]
    },
    {
     "name": "stderr",
     "output_type": "stream",
     "text": [
      "No GPU/TPU found, falling back to CPU. (Set TF_CPP_MIN_LOG_LEVEL=0 and rerun for more info.)\n",
      "GPU available: False, used: False\n",
      "TPU available: False, using: 0 TPU cores\n",
      "IPU available: False, using: 0 IPUs\n",
      "HPU available: False, using: 0 HPUs\n"
     ]
    },
    {
     "name": "stdout",
     "output_type": "stream",
     "text": [
      "Epoch 400/400: 100%|███████████████████████████████████████████████████████████████████████████████| 400/400 [09:26<00:00,  1.53s/it, v_num=1, train_loss_step=192, train_loss_epoch=340]"
     ]
    },
    {
     "name": "stderr",
     "output_type": "stream",
     "text": [
      "`Trainer.fit` stopped: `max_epochs=400` reached.\n"
     ]
    },
    {
     "name": "stdout",
     "output_type": "stream",
     "text": [
      "Epoch 400/400: 100%|███████████████████████████████████████████████████████████████████████████████| 400/400 [09:26<00:00,  1.42s/it, v_num=1, train_loss_step=192, train_loss_epoch=340]\n",
      "\u001b[34mINFO    \u001b[0m Creating doublets, preparing SOLO model.                                                                  \n"
     ]
    },
    {
     "name": "stderr",
     "output_type": "stream",
     "text": [
      "GPU available: False, used: False\n",
      "TPU available: False, using: 0 TPU cores\n",
      "IPU available: False, using: 0 IPUs\n",
      "HPU available: False, using: 0 HPUs\n"
     ]
    },
    {
     "name": "stdout",
     "output_type": "stream",
     "text": [
      "Epoch 376/400:  94%|██████████████████████████████████████████████████████████████████████▌    | 376/400 [02:38<00:10,  2.37it/s, v_num=1, train_loss_step=0.418, train_loss_epoch=0.317]\n",
      "Monitored metric validation_loss did not improve in the last 30 records. Best score: 0.303. Signaling Trainer to stop.\n"
     ]
    },
    {
     "name": "stderr",
     "output_type": "stream",
     "text": [
      "/home/bonny/miniconda3/envs/singlecell/lib/python3.10/site-packages/scanpy/preprocessing/_simple.py:140: ImplicitModificationWarning: Trying to modify attribute `.obs` of view, initializing view as actual.\n",
      "  adata.obs['n_genes'] = number\n",
      "/home/bonny/miniconda3/envs/singlecell/lib/python3.10/site-packages/anndata/_core/anndata.py:1222: ImplicitModificationWarning: Trying to modify attribute `.obs` of view, initializing view as actual.\n",
      "  df[key] = c\n"
     ]
    },
    {
     "name": "stdout",
     "output_type": "stream",
     "text": [
      "====================================================================================================\n",
      "\n"
     ]
    }
   ],
   "source": [
    "for sample, sample_csv in sample_dict.items():\n",
    "    if sample in s:\n",
    "        print(sample, sample_csv)\n",
    "        print()\n",
    "        adata = sample_preprocessing(sample_csv, sample)\n",
    "        adata.write_h5ad(data_dir + f'{sample}.h5ad')\n",
    "        print('='*100)\n",
    "        print()"
   ]
  },
  {
   "cell_type": "code",
   "execution_count": null,
   "metadata": {},
   "outputs": [],
   "source": []
  },
  {
   "cell_type": "code",
   "execution_count": null,
   "metadata": {},
   "outputs": [],
   "source": []
  },
  {
   "cell_type": "code",
   "execution_count": null,
   "metadata": {},
   "outputs": [],
   "source": []
  },
  {
   "cell_type": "code",
   "execution_count": null,
   "metadata": {},
   "outputs": [],
   "source": []
  }
 ],
 "metadata": {
  "kernelspec": {
   "display_name": "Python [conda env:singlecell] *",
   "language": "python",
   "name": "conda-env-singlecell-py"
  },
  "language_info": {
   "codemirror_mode": {
    "name": "ipython",
    "version": 3
   },
   "file_extension": ".py",
   "mimetype": "text/x-python",
   "name": "python",
   "nbconvert_exporter": "python",
   "pygments_lexer": "ipython3",
   "version": "3.10.12"
  }
 },
 "nbformat": 4,
 "nbformat_minor": 4
}
